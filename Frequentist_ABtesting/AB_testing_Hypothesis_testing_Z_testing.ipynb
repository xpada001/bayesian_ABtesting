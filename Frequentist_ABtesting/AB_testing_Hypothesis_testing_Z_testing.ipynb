{
  "nbformat": 4,
  "nbformat_minor": 0,
  "metadata": {
    "colab": {
      "name": "AB testing - Hypothesis testing: Z testing.ipynb",
      "provenance": [],
      "collapsed_sections": []
    },
    "kernelspec": {
      "name": "python3",
      "display_name": "Python 3"
    },
    "language_info": {
      "name": "python"
    }
  },
  "cells": [
    {
      "cell_type": "code",
      "metadata": {
        "colab": {
          "base_uri": "https://localhost:8080/"
        },
        "id": "-TSZWVOMAcI3",
        "outputId": "293b378a-3f95-4375-c0bf-5e791a96f0b6"
      },
      "source": [
        "import numpy as np\n",
        "from scipy.stats import norm\n",
        "from statsmodels.stats.weightstats import ztest"
      ],
      "execution_count": null,
      "outputs": [
        {
          "output_type": "stream",
          "text": [
            "/usr/local/lib/python3.7/dist-packages/statsmodels/tools/_testing.py:19: FutureWarning: pandas.util.testing is deprecated. Use the functions in the public API at pandas.testing instead.\n",
            "  import pandas.util.testing as tm\n"
          ],
          "name": "stderr"
        }
      ]
    },
    {
      "cell_type": "code",
      "metadata": {
        "id": "R8H-2DUOAlpS"
      },
      "source": [
        "np.random.seed(0)"
      ],
      "execution_count": null,
      "outputs": []
    },
    {
      "cell_type": "code",
      "metadata": {
        "colab": {
          "base_uri": "https://localhost:8080/"
        },
        "id": "ysbgzEgjAnpK",
        "outputId": "522ada2c-8868-4b62-a8e4-0c280726af41"
      },
      "source": [
        "N = 100\n",
        "mu = 0.2\n",
        "sigma = 1\n",
        "X = np.random.randn(N)*sigma+mu\n",
        "\n",
        "#two sided test\n",
        "ztest(X) #by default this is one sample test to a default reference value of 0"
      ],
      "execution_count": null,
      "outputs": [
        {
          "output_type": "execute_result",
          "data": {
            "text/plain": [
              "(2.5648404153513686, 0.01032232684881584)"
            ]
          },
          "metadata": {
            "tags": []
          },
          "execution_count": 3
        }
      ]
    },
    {
      "cell_type": "code",
      "metadata": {
        "id": "6I78AGiLAvEn"
      },
      "source": [
        "#replicate the function above using our own code\n",
        "\n",
        "mu_hat = X.mean()\n",
        "sigma_hat = X.std(ddof=1)\n",
        "z = mu_hat / (sigma_hat / np.sqrt(N)) #note our mu_0 = 0\n",
        "p_right = 1 - norm.cdf(np.abs(z)) # you can also use the norm.sf function instead of 1-cdf(..)\n",
        "p_left = norm.cdf(-np.abs(z))\n",
        "p = p_right + p_left"
      ],
      "execution_count": null,
      "outputs": []
    },
    {
      "cell_type": "code",
      "metadata": {
        "colab": {
          "base_uri": "https://localhost:8080/"
        },
        "id": "rsB-FiyXBour",
        "outputId": "07b0e858-843d-46e7-a547-fe862c5f5f88"
      },
      "source": [
        "print(z)\n",
        "print(p)"
      ],
      "execution_count": null,
      "outputs": [
        {
          "output_type": "stream",
          "text": [
            "2.564840415351368\n",
            "0.010322326848815901\n"
          ],
          "name": "stdout"
        }
      ]
    },
    {
      "cell_type": "code",
      "metadata": {
        "colab": {
          "base_uri": "https://localhost:8080/"
        },
        "id": "Kg1NhCktBq28",
        "outputId": "f56d5d20-d43d-473e-c1e6-f4a7aae0d9f5"
      },
      "source": [
        "# one-sided test\n",
        "ztest(X, alternative=\"larger\")"
      ],
      "execution_count": null,
      "outputs": [
        {
          "output_type": "execute_result",
          "data": {
            "text/plain": [
              "(2.5648404153513686, 0.00516116342440792)"
            ]
          },
          "metadata": {
            "tags": []
          },
          "execution_count": 6
        }
      ]
    },
    {
      "cell_type": "code",
      "metadata": {
        "colab": {
          "base_uri": "https://localhost:8080/"
        },
        "id": "oudc3oiLB6mB",
        "outputId": "8b9fbe72-4639-498b-b30a-76b8471c2549"
      },
      "source": [
        "#derivate above by myself\n",
        "p = 1 - norm.cdf(z)\n",
        "print(z)\n",
        "print(p)"
      ],
      "execution_count": null,
      "outputs": [
        {
          "output_type": "stream",
          "text": [
            "2.564840415351368\n",
            "0.005161163424407977\n"
          ],
          "name": "stdout"
        }
      ]
    },
    {
      "cell_type": "code",
      "metadata": {
        "colab": {
          "base_uri": "https://localhost:8080/"
        },
        "id": "J1A7YoEOCIgC",
        "outputId": "1c54df2a-1981-4db7-efb3-bbc3c52744bd"
      },
      "source": [
        "mu_0 = 0.2\n",
        "ztest(X, value=mu_0)\n",
        "#we can see that we fail to reject this null hypothesis"
      ],
      "execution_count": null,
      "outputs": [
        {
          "output_type": "execute_result",
          "data": {
            "text/plain": [
              "(0.5904283402851699, 0.5549035151647227)"
            ]
          },
          "metadata": {
            "tags": []
          },
          "execution_count": 8
        }
      ]
    },
    {
      "cell_type": "code",
      "metadata": {
        "colab": {
          "base_uri": "https://localhost:8080/"
        },
        "id": "NQEd67ePCTgm",
        "outputId": "c830042c-af03-486f-b4b2-e3a7aa0c06a9"
      },
      "source": [
        "z2 = (mu_hat-mu_0) / (sigma_hat / np.sqrt(N)) #note our mu_0 = 0\n",
        "p_right2 = 1 - norm.cdf(np.abs(z2)) # you can also use the norm.sf function instead of 1-cdf(..)\n",
        "p_left2 = norm.cdf(-np.abs(z2))\n",
        "p2 = p_right2 + p_left2\n",
        "\n",
        "print(z2)\n",
        "print(p2)"
      ],
      "execution_count": null,
      "outputs": [
        {
          "output_type": "stream",
          "text": [
            "0.5904283402851698\n",
            "0.5549035151647228\n"
          ],
          "name": "stdout"
        }
      ]
    },
    {
      "cell_type": "code",
      "metadata": {
        "id": "TbUf-Ly3CoWJ"
      },
      "source": [
        "#now two sample test\n",
        "\n",
        "N1 = 100\n",
        "mu1 = 0.2\n",
        "sigma1 = 1\n",
        "X1 = np.random.randn(N1)*sigma1 + mu1\n",
        "\n",
        "N2 = 100\n",
        "mu2 = 0.5\n",
        "sigma2 = 1\n",
        "X2 = np.random.randn(N2)*sigma2 + mu2"
      ],
      "execution_count": null,
      "outputs": []
    },
    {
      "cell_type": "code",
      "metadata": {
        "colab": {
          "base_uri": "https://localhost:8080/"
        },
        "id": "IO88BowjC-gV",
        "outputId": "2b023990-9c51-4902-af8e-5f836600d271"
      },
      "source": [
        "ztest(X1, X2)\n",
        "#again fail to reject the null hypothesis"
      ],
      "execution_count": null,
      "outputs": [
        {
          "output_type": "execute_result",
          "data": {
            "text/plain": [
              "(-1.1234612344369315, 0.2612416557056353)"
            ]
          },
          "metadata": {
            "tags": []
          },
          "execution_count": 11
        }
      ]
    },
    {
      "cell_type": "code",
      "metadata": {
        "colab": {
          "base_uri": "https://localhost:8080/"
        },
        "id": "85evimZ0DAGQ",
        "outputId": "68416e88-28a7-4a78-ad98-ccf67941ecda"
      },
      "source": [
        "mu_hat1 = X1.mean()\n",
        "mu_hat2 = X2.mean()\n",
        "mu_diff = mu_hat1 - mu_hat2\n",
        "sig_hat1 = X1.var(ddof=1)\n",
        "sig_hat2 = X2.var(ddof=1)\n",
        "sig_hat = np.sqrt(sig_hat1/N1 + sig_hat2/N2)\n",
        "z = (mu_diff)/sig_hat # note reference value is 0\n",
        "p_right = 1-norm.cdf(np.abs(z))\n",
        "p_left = norm.cdf(-np.abs(z))\n",
        "p = p_right + p_left\n",
        "\n",
        "print(z)\n",
        "print(p)\n",
        "\n",
        "#the sign may be diff, which is fine because it depends on which data you consider as group1 and which is group2\n",
        "#only time it matters is when we doing 1 sided test"
      ],
      "execution_count": null,
      "outputs": [
        {
          "output_type": "stream",
          "text": [
            "-1.1234612344369315\n",
            "0.26124165570563523\n"
          ],
          "name": "stdout"
        }
      ]
    },
    {
      "cell_type": "code",
      "metadata": {
        "id": "QPYa6WVPEbb3",
        "colab": {
          "base_uri": "https://localhost:8080/"
        },
        "outputId": "3e7c1498-f523-4aa8-abb6-572e419a97c3"
      },
      "source": [
        "#now we want to test that even tho the null hypothesis is really true (i.e. X1 = X2), the false alarm rate of the default set threshold 5% will hold true， i.e. for 5% of the time we will reject the null hypothesis \n",
        "num_tests = 10000\n",
        "res = 0\n",
        "size = 100\n",
        "for i in range(num_tests):\n",
        "  X1 = np.random.randn(size)\n",
        "  X2 = np.random.randn(size) \n",
        "  #X1 and X2 are the same, hence the null hypothesis is true, they are from exact distribution\n",
        "  z,p = ztest(X1, X2)\n",
        "  res += (p<0.05)\n",
        "print(res/num_tests) #check the false alarm rate"
      ],
      "execution_count": null,
      "outputs": [
        {
          "output_type": "stream",
          "text": [
            "0.049\n"
          ],
          "name": "stdout"
        }
      ]
    },
    {
      "cell_type": "code",
      "metadata": {
        "id": "7VPo60y0FvwG",
        "colab": {
          "base_uri": "https://localhost:8080/"
        },
        "outputId": "3e3811ef-0467-4c04-be74-76cbede9f326"
      },
      "source": [
        "!wget https://lazyprogrammer.me/course_files/titanic_train.csv"
      ],
      "execution_count": null,
      "outputs": [
        {
          "output_type": "stream",
          "text": [
            "--2021-05-16 20:02:43--  https://lazyprogrammer.me/course_files/titanic_train.csv\n",
            "Resolving lazyprogrammer.me (lazyprogrammer.me)... 104.21.23.210, 172.67.213.166, 2606:4700:3030::ac43:d5a6, ...\n",
            "Connecting to lazyprogrammer.me (lazyprogrammer.me)|104.21.23.210|:443... connected.\n",
            "HTTP request sent, awaiting response... 200 OK\n",
            "Length: 61194 (60K) [text/csv]\n",
            "Saving to: ‘titanic_train.csv’\n",
            "\n",
            "titanic_train.csv   100%[===================>]  59.76K  --.-KB/s    in 0.003s  \n",
            "\n",
            "2021-05-16 20:02:44 (18.3 MB/s) - ‘titanic_train.csv’ saved [61194/61194]\n",
            "\n"
          ],
          "name": "stdout"
        }
      ]
    },
    {
      "cell_type": "code",
      "metadata": {
        "id": "jJRE4hxOtV00"
      },
      "source": [
        "import pandas as pd\n",
        "import seaborn as sns\n",
        "import matplotlib.pyplot as plt"
      ],
      "execution_count": null,
      "outputs": []
    },
    {
      "cell_type": "code",
      "metadata": {
        "colab": {
          "base_uri": "https://localhost:8080/",
          "height": 484
        },
        "id": "_1o6dWMvtZkl",
        "outputId": "9b27a70a-f6e8-46b6-f3b6-5c84b7b5858d"
      },
      "source": [
        "df = pd.read_csv('titanic_train.csv')\n",
        "df.head()"
      ],
      "execution_count": null,
      "outputs": [
        {
          "output_type": "execute_result",
          "data": {
            "text/html": [
              "<div>\n",
              "<style scoped>\n",
              "    .dataframe tbody tr th:only-of-type {\n",
              "        vertical-align: middle;\n",
              "    }\n",
              "\n",
              "    .dataframe tbody tr th {\n",
              "        vertical-align: top;\n",
              "    }\n",
              "\n",
              "    .dataframe thead th {\n",
              "        text-align: right;\n",
              "    }\n",
              "</style>\n",
              "<table border=\"1\" class=\"dataframe\">\n",
              "  <thead>\n",
              "    <tr style=\"text-align: right;\">\n",
              "      <th></th>\n",
              "      <th>PassengerId</th>\n",
              "      <th>Survived</th>\n",
              "      <th>Pclass</th>\n",
              "      <th>Name</th>\n",
              "      <th>Sex</th>\n",
              "      <th>Age</th>\n",
              "      <th>SibSp</th>\n",
              "      <th>Parch</th>\n",
              "      <th>Ticket</th>\n",
              "      <th>Fare</th>\n",
              "      <th>Cabin</th>\n",
              "      <th>Embarked</th>\n",
              "    </tr>\n",
              "  </thead>\n",
              "  <tbody>\n",
              "    <tr>\n",
              "      <th>0</th>\n",
              "      <td>1</td>\n",
              "      <td>0</td>\n",
              "      <td>3</td>\n",
              "      <td>Braund, Mr. Owen Harris</td>\n",
              "      <td>male</td>\n",
              "      <td>22.0</td>\n",
              "      <td>1</td>\n",
              "      <td>0</td>\n",
              "      <td>A/5 21171</td>\n",
              "      <td>7.2500</td>\n",
              "      <td>NaN</td>\n",
              "      <td>S</td>\n",
              "    </tr>\n",
              "    <tr>\n",
              "      <th>1</th>\n",
              "      <td>2</td>\n",
              "      <td>1</td>\n",
              "      <td>1</td>\n",
              "      <td>Cumings, Mrs. John Bradley (Florence Briggs Th...</td>\n",
              "      <td>female</td>\n",
              "      <td>38.0</td>\n",
              "      <td>1</td>\n",
              "      <td>0</td>\n",
              "      <td>PC 17599</td>\n",
              "      <td>71.2833</td>\n",
              "      <td>C85</td>\n",
              "      <td>C</td>\n",
              "    </tr>\n",
              "    <tr>\n",
              "      <th>2</th>\n",
              "      <td>3</td>\n",
              "      <td>1</td>\n",
              "      <td>3</td>\n",
              "      <td>Heikkinen, Miss. Laina</td>\n",
              "      <td>female</td>\n",
              "      <td>26.0</td>\n",
              "      <td>0</td>\n",
              "      <td>0</td>\n",
              "      <td>STON/O2. 3101282</td>\n",
              "      <td>7.9250</td>\n",
              "      <td>NaN</td>\n",
              "      <td>S</td>\n",
              "    </tr>\n",
              "    <tr>\n",
              "      <th>3</th>\n",
              "      <td>4</td>\n",
              "      <td>1</td>\n",
              "      <td>1</td>\n",
              "      <td>Futrelle, Mrs. Jacques Heath (Lily May Peel)</td>\n",
              "      <td>female</td>\n",
              "      <td>35.0</td>\n",
              "      <td>1</td>\n",
              "      <td>0</td>\n",
              "      <td>113803</td>\n",
              "      <td>53.1000</td>\n",
              "      <td>C123</td>\n",
              "      <td>S</td>\n",
              "    </tr>\n",
              "    <tr>\n",
              "      <th>4</th>\n",
              "      <td>5</td>\n",
              "      <td>0</td>\n",
              "      <td>3</td>\n",
              "      <td>Allen, Mr. William Henry</td>\n",
              "      <td>male</td>\n",
              "      <td>35.0</td>\n",
              "      <td>0</td>\n",
              "      <td>0</td>\n",
              "      <td>373450</td>\n",
              "      <td>8.0500</td>\n",
              "      <td>NaN</td>\n",
              "      <td>S</td>\n",
              "    </tr>\n",
              "  </tbody>\n",
              "</table>\n",
              "</div>"
            ],
            "text/plain": [
              "   PassengerId  Survived  Pclass  ...     Fare Cabin  Embarked\n",
              "0            1         0       3  ...   7.2500   NaN         S\n",
              "1            2         1       1  ...  71.2833   C85         C\n",
              "2            3         1       3  ...   7.9250   NaN         S\n",
              "3            4         1       1  ...  53.1000  C123         S\n",
              "4            5         0       3  ...   8.0500   NaN         S\n",
              "\n",
              "[5 rows x 12 columns]"
            ]
          },
          "metadata": {
            "tags": []
          },
          "execution_count": 16
        }
      ]
    },
    {
      "cell_type": "code",
      "metadata": {
        "colab": {
          "base_uri": "https://localhost:8080/",
          "height": 568
        },
        "id": "SqiRsw2_tcVd",
        "outputId": "2848053f-4c09-407e-972c-08ccd234da24"
      },
      "source": [
        "df[df['Survived']==1].head()"
      ],
      "execution_count": null,
      "outputs": [
        {
          "output_type": "execute_result",
          "data": {
            "text/html": [
              "<div>\n",
              "<style scoped>\n",
              "    .dataframe tbody tr th:only-of-type {\n",
              "        vertical-align: middle;\n",
              "    }\n",
              "\n",
              "    .dataframe tbody tr th {\n",
              "        vertical-align: top;\n",
              "    }\n",
              "\n",
              "    .dataframe thead th {\n",
              "        text-align: right;\n",
              "    }\n",
              "</style>\n",
              "<table border=\"1\" class=\"dataframe\">\n",
              "  <thead>\n",
              "    <tr style=\"text-align: right;\">\n",
              "      <th></th>\n",
              "      <th>PassengerId</th>\n",
              "      <th>Survived</th>\n",
              "      <th>Pclass</th>\n",
              "      <th>Name</th>\n",
              "      <th>Sex</th>\n",
              "      <th>Age</th>\n",
              "      <th>SibSp</th>\n",
              "      <th>Parch</th>\n",
              "      <th>Ticket</th>\n",
              "      <th>Fare</th>\n",
              "      <th>Cabin</th>\n",
              "      <th>Embarked</th>\n",
              "    </tr>\n",
              "  </thead>\n",
              "  <tbody>\n",
              "    <tr>\n",
              "      <th>1</th>\n",
              "      <td>2</td>\n",
              "      <td>1</td>\n",
              "      <td>1</td>\n",
              "      <td>Cumings, Mrs. John Bradley (Florence Briggs Th...</td>\n",
              "      <td>female</td>\n",
              "      <td>38.0</td>\n",
              "      <td>1</td>\n",
              "      <td>0</td>\n",
              "      <td>PC 17599</td>\n",
              "      <td>71.2833</td>\n",
              "      <td>C85</td>\n",
              "      <td>C</td>\n",
              "    </tr>\n",
              "    <tr>\n",
              "      <th>2</th>\n",
              "      <td>3</td>\n",
              "      <td>1</td>\n",
              "      <td>3</td>\n",
              "      <td>Heikkinen, Miss. Laina</td>\n",
              "      <td>female</td>\n",
              "      <td>26.0</td>\n",
              "      <td>0</td>\n",
              "      <td>0</td>\n",
              "      <td>STON/O2. 3101282</td>\n",
              "      <td>7.9250</td>\n",
              "      <td>NaN</td>\n",
              "      <td>S</td>\n",
              "    </tr>\n",
              "    <tr>\n",
              "      <th>3</th>\n",
              "      <td>4</td>\n",
              "      <td>1</td>\n",
              "      <td>1</td>\n",
              "      <td>Futrelle, Mrs. Jacques Heath (Lily May Peel)</td>\n",
              "      <td>female</td>\n",
              "      <td>35.0</td>\n",
              "      <td>1</td>\n",
              "      <td>0</td>\n",
              "      <td>113803</td>\n",
              "      <td>53.1000</td>\n",
              "      <td>C123</td>\n",
              "      <td>S</td>\n",
              "    </tr>\n",
              "    <tr>\n",
              "      <th>8</th>\n",
              "      <td>9</td>\n",
              "      <td>1</td>\n",
              "      <td>3</td>\n",
              "      <td>Johnson, Mrs. Oscar W (Elisabeth Vilhelmina Berg)</td>\n",
              "      <td>female</td>\n",
              "      <td>27.0</td>\n",
              "      <td>0</td>\n",
              "      <td>2</td>\n",
              "      <td>347742</td>\n",
              "      <td>11.1333</td>\n",
              "      <td>NaN</td>\n",
              "      <td>S</td>\n",
              "    </tr>\n",
              "    <tr>\n",
              "      <th>9</th>\n",
              "      <td>10</td>\n",
              "      <td>1</td>\n",
              "      <td>2</td>\n",
              "      <td>Nasser, Mrs. Nicholas (Adele Achem)</td>\n",
              "      <td>female</td>\n",
              "      <td>14.0</td>\n",
              "      <td>1</td>\n",
              "      <td>0</td>\n",
              "      <td>237736</td>\n",
              "      <td>30.0708</td>\n",
              "      <td>NaN</td>\n",
              "      <td>C</td>\n",
              "    </tr>\n",
              "  </tbody>\n",
              "</table>\n",
              "</div>"
            ],
            "text/plain": [
              "   PassengerId  Survived  Pclass  ...     Fare Cabin  Embarked\n",
              "1            2         1       1  ...  71.2833   C85         C\n",
              "2            3         1       3  ...   7.9250   NaN         S\n",
              "3            4         1       1  ...  53.1000  C123         S\n",
              "8            9         1       3  ...  11.1333   NaN         S\n",
              "9           10         1       2  ...  30.0708   NaN         C\n",
              "\n",
              "[5 rows x 12 columns]"
            ]
          },
          "metadata": {
            "tags": []
          },
          "execution_count": 17
        }
      ]
    },
    {
      "cell_type": "code",
      "metadata": {
        "colab": {
          "base_uri": "https://localhost:8080/"
        },
        "id": "e10qWM5EthDy",
        "outputId": "ffac2ca6-a9e6-4983-bc8e-6041127a5489"
      },
      "source": [
        "#using the hypothesis test, we want to test if the fare paid by survived = 1 passengers vs survived = 0 passenger is the same (null hypothesis)\n",
        "x1 = df[df['Survived']==1]['Fare'].dropna().to_numpy()\n",
        "x2 = df[df['Survived']==0]['Fare'].dropna().to_numpy()\n",
        "print(x1.mean())\n",
        "print(x2.mean())"
      ],
      "execution_count": null,
      "outputs": [
        {
          "output_type": "stream",
          "text": [
            "48.39540760233918\n",
            "22.117886885245902\n"
          ],
          "name": "stdout"
        }
      ]
    },
    {
      "cell_type": "code",
      "metadata": {
        "colab": {
          "base_uri": "https://localhost:8080/"
        },
        "id": "KKrKasoJtxjh",
        "outputId": "30916355-04f7-4a42-c009-770d9356306f"
      },
      "source": [
        "ztest(x1,x2)"
      ],
      "execution_count": null,
      "outputs": [
        {
          "output_type": "execute_result",
          "data": {
            "text/plain": [
              "(7.939191660871055, 2.035031103573989e-15)"
            ]
          },
          "metadata": {
            "tags": []
          },
          "execution_count": 19
        }
      ]
    },
    {
      "cell_type": "code",
      "metadata": {
        "colab": {
          "base_uri": "https://localhost:8080/",
          "height": 283
        },
        "id": "Pq_heg6RuFcN",
        "outputId": "236c8889-6c7f-46c1-c26d-d6b88b0a01e9"
      },
      "source": [
        "#density plot for the two groups\n",
        "sns.kdeplot(x1, label = \"Survived\")\n",
        "sns.kdeplot(x2, label = \"Did not survived\")\n",
        "plt.legend()"
      ],
      "execution_count": null,
      "outputs": [
        {
          "output_type": "execute_result",
          "data": {
            "text/plain": [
              "<matplotlib.legend.Legend at 0x7fd0c6e6a7d0>"
            ]
          },
          "metadata": {
            "tags": []
          },
          "execution_count": 20
        },
        {
          "output_type": "display_data",
          "data": {
            "image/png": "[encoded data removed]",
            "text/plain": [
              "<Figure size 432x288 with 1 Axes>"
            ]
          },
          "metadata": {
            "tags": [],
            "needs_background": "light"
          }
        }
      ]
    },
    {
      "cell_type": "markdown",
      "metadata": {
        "id": "7HOSa7hUxo_S"
      },
      "source": [
        "Example 2 with click rate"
      ]
    },
    {
      "cell_type": "code",
      "metadata": {
        "id": "0GUcwfMzwOMe"
      },
      "source": [
        "df = pd.read_csv('/content/drive/MyDrive/udemy/A B testing Baysian/advertisement_clicks.csv')"
      ],
      "execution_count": null,
      "outputs": []
    },
    {
      "cell_type": "code",
      "metadata": {
        "colab": {
          "base_uri": "https://localhost:8080/",
          "height": 194
        },
        "id": "PaV-zT2cwoaD",
        "outputId": "e02e8cbc-9950-4487-f93a-2d0a25097332"
      },
      "source": [
        "df.head()"
      ],
      "execution_count": null,
      "outputs": [
        {
          "output_type": "execute_result",
          "data": {
            "text/html": [
              "<div>\n",
              "<style scoped>\n",
              "    .dataframe tbody tr th:only-of-type {\n",
              "        vertical-align: middle;\n",
              "    }\n",
              "\n",
              "    .dataframe tbody tr th {\n",
              "        vertical-align: top;\n",
              "    }\n",
              "\n",
              "    .dataframe thead th {\n",
              "        text-align: right;\n",
              "    }\n",
              "</style>\n",
              "<table border=\"1\" class=\"dataframe\">\n",
              "  <thead>\n",
              "    <tr style=\"text-align: right;\">\n",
              "      <th></th>\n",
              "      <th>advertisement_id</th>\n",
              "      <th>action</th>\n",
              "    </tr>\n",
              "  </thead>\n",
              "  <tbody>\n",
              "    <tr>\n",
              "      <th>0</th>\n",
              "      <td>B</td>\n",
              "      <td>1</td>\n",
              "    </tr>\n",
              "    <tr>\n",
              "      <th>1</th>\n",
              "      <td>B</td>\n",
              "      <td>1</td>\n",
              "    </tr>\n",
              "    <tr>\n",
              "      <th>2</th>\n",
              "      <td>A</td>\n",
              "      <td>0</td>\n",
              "    </tr>\n",
              "    <tr>\n",
              "      <th>3</th>\n",
              "      <td>B</td>\n",
              "      <td>0</td>\n",
              "    </tr>\n",
              "    <tr>\n",
              "      <th>4</th>\n",
              "      <td>A</td>\n",
              "      <td>1</td>\n",
              "    </tr>\n",
              "  </tbody>\n",
              "</table>\n",
              "</div>"
            ],
            "text/plain": [
              "  advertisement_id  action\n",
              "0                B       1\n",
              "1                B       1\n",
              "2                A       0\n",
              "3                B       0\n",
              "4                A       1"
            ]
          },
          "metadata": {
            "tags": []
          },
          "execution_count": 23
        }
      ]
    },
    {
      "cell_type": "code",
      "metadata": {
        "colab": {
          "base_uri": "https://localhost:8080/"
        },
        "id": "f4ZTBxMhxl3z",
        "outputId": "b2e80cb4-df3a-4742-84c1-6ec4f6829875"
      },
      "source": [
        "x1 = df[df['advertisement_id']=='A']['action']\n",
        "x2 = df[df['advertisement_id']=='B']['action']\n",
        "\n",
        "ztest(x1,x2)\n",
        "#we can reject the null hypothesis that the two website are equal in click rate"
      ],
      "execution_count": null,
      "outputs": [
        {
          "output_type": "execute_result",
          "data": {
            "text/plain": [
              "(-3.2211732138019786, 0.0012766696301529544)"
            ]
          },
          "metadata": {
            "tags": []
          },
          "execution_count": 24
        }
      ]
    },
    {
      "cell_type": "code",
      "metadata": {
        "colab": {
          "base_uri": "https://localhost:8080/"
        },
        "id": "Oo1F3R4Rx3m2",
        "outputId": "76f49f7b-a8b0-4ab1-fddb-fa09927900df"
      },
      "source": [
        "print(x1.mean())\n",
        "print(x2.mean())"
      ],
      "execution_count": null,
      "outputs": [
        {
          "output_type": "stream",
          "text": [
            "0.304\n",
            "0.372\n"
          ],
          "name": "stdout"
        }
      ]
    },
    {
      "cell_type": "code",
      "metadata": {
        "colab": {
          "base_uri": "https://localhost:8080/",
          "height": 299
        },
        "id": "xAjibUBsyGEJ",
        "outputId": "be3e2164-95bc-451f-9113-5207f20738bb"
      },
      "source": [
        "#density plot for the two groups\n",
        "sns.kdeplot(x1, label = \"A\")\n",
        "sns.kdeplot(x2, label = \"B\")\n",
        "plt.legend()"
      ],
      "execution_count": null,
      "outputs": [
        {
          "output_type": "execute_result",
          "data": {
            "text/plain": [
              "<matplotlib.legend.Legend at 0x7fd0c1ef5cd0>"
            ]
          },
          "metadata": {
            "tags": []
          },
          "execution_count": 26
        },
        {
          "output_type": "display_data",
          "data": {
            "image/png": "[encoded data removed]",
            "text/plain": [
              "<Figure size 432x288 with 1 Axes>"
            ]
          },
          "metadata": {
            "tags": [],
            "needs_background": "light"
          }
        }
      ]
    },
    {
      "cell_type": "code",
      "metadata": {
        "id": "uTmOZayvyJPD"
      },
      "source": [
        ""
      ],
      "execution_count": null,
      "outputs": []
    }
  ]
}